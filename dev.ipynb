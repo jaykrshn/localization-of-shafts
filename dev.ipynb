{
 "metadata": {
  "language_info": {
   "codemirror_mode": {
    "name": "ipython",
    "version": 3
   },
   "file_extension": ".py",
   "mimetype": "text/x-python",
   "name": "python",
   "nbconvert_exporter": "python",
   "pygments_lexer": "ipython3",
   "version": "3.7.6"
  },
  "orig_nbformat": 2,
  "kernelspec": {
   "name": "python376jvsc74a57bd08728c8bd75a534ea6cc34a02d4035ad82ed759fc1d4e79ebf981d5adc3be5782",
   "display_name": "Python 3.7.6 64-bit (conda)"
  }
 },
 "nbformat": 4,
 "nbformat_minor": 2,
 "cells": [
  {
   "cell_type": "code",
   "execution_count": 7,
   "metadata": {},
   "outputs": [],
   "source": [
    "import cv2\n",
    "from pathlib import Path"
   ]
  },
  {
   "cell_type": "code",
   "execution_count": 8,
   "metadata": {},
   "outputs": [],
   "source": [
    "DATASET_PATH = \"dataset/dataset_2layers_0(25 shafts)_synthetic\""
   ]
  },
  {
   "cell_type": "code",
   "execution_count": null,
   "metadata": {},
   "outputs": [],
   "source": []
  },
  {
   "cell_type": "code",
   "execution_count": 2,
   "metadata": {},
   "outputs": [],
   "source": [
    "img = cv2.imread(\"dataset\\dataset_2layers_0(25 shafts)_synthetic\\image_000800.bmp\")"
   ]
  },
  {
   "cell_type": "code",
   "execution_count": 6,
   "metadata": {},
   "outputs": [
    {
     "output_type": "stream",
     "name": "stdout",
     "text": [
      "[[[17 17 17]\n  [14 14 14]\n  [15 15 15]\n  ...\n  [15 15 15]\n  [16 16 16]\n  [21 21 21]]\n\n [[14 14 14]\n  [15 15 15]\n  [14 14 14]\n  ...\n  [14 14 14]\n  [14 14 14]\n  [14 14 14]]\n\n [[14 14 14]\n  [14 14 14]\n  [14 14 14]\n  ...\n  [16 16 16]\n  [14 14 14]\n  [16 16 16]]\n\n ...\n\n [[22 22 22]\n  [16 16 16]\n  [16 16 16]\n  ...\n  [16 16 16]\n  [15 15 15]\n  [18 18 18]]\n\n [[56 56 56]\n  [41 41 41]\n  [26 26 26]\n  ...\n  [25 25 25]\n  [37 37 37]\n  [53 53 53]]\n\n [[63 63 63]\n  [63 63 63]\n  [60 60 60]\n  ...\n  [60 60 60]\n  [63 63 63]\n  [64 64 64]]]\n"
     ]
    }
   ],
   "source": [
    "print(img)"
   ]
  },
  {
   "cell_type": "code",
   "execution_count": null,
   "metadata": {},
   "outputs": [],
   "source": []
  }
 ]
}